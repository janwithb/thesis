{
 "cells": [
  {
   "cell_type": "code",
   "execution_count": 1,
   "metadata": {},
   "outputs": [],
   "source": [
    "import argparse\n",
    "import collections\n",
    "import json\n",
    "import os\n",
    "import matplotlib.pyplot as plt\n",
    "import numpy as np\n",
    "import torch\n",
    "import dmc_remastered as dmcr\n",
    "import gym\n",
    "import envs\n",
    "\n",
    "from dm_control import suite\n",
    "from matplotlib import animation\n",
    "from algos.dreamer_mpc import DreamerMPC\n",
    "from algos.dreamer_sac import DreamerSAC\n",
    "from algos.dreamer_value import DreamerValue\n",
    "from wrappers.action_repeat_wrapper import ActionRepeat\n",
    "from wrappers.frame_stack_wrapper import FrameStack\n",
    "from wrappers.gym_wrapper import GymWrapper\n",
    "from wrappers.pixel_observation_wrapper import PixelObservation\n",
    "\n",
    "os.environ['KMP_DUPLICATE_LIB_OK']='True'"
   ]
  },
  {
   "cell_type": "code",
   "execution_count": 2,
   "metadata": {},
   "outputs": [],
   "source": [
    "def save_video_as_gif(frames):\n",
    "    \"\"\"\n",
    "    make video with given frames and save as \"video_prediction.gif\"\n",
    "    \"\"\"\n",
    "    plt.figure()\n",
    "    patch = plt.imshow(frames[0])\n",
    "    plt.axis('off')\n",
    "\n",
    "    def animate(i):\n",
    "        patch.set_data(frames[i])\n",
    "        plt.title('Left: GT frame' + ' '*20 + 'Right: predicted frame \\n Step %d' % (i))\n",
    "\n",
    "    anim = animation.FuncAnimation(plt.gcf(), animate, frames=len(frames), interval=150)\n",
    "    anim.save('video_prediction.gif', writer='imagemagick')"
   ]
  },
  {
   "cell_type": "code",
   "execution_count": 3,
   "metadata": {},
   "outputs": [],
   "source": [
    "args = {\n",
    "    'train_args_dir': '/Users/jan/Development/Projects/thesis/output/FetchReachRandom-v2-2021-05-25-14-03-53/config/args.json',\n",
    "    'load_model_dir': '/Users/jan/Development/Projects/thesis/output/FetchReachRandom-v2-2021-05-25-14-03-53/model/model_final',\n",
    "    'video_length': 100\n",
    "}\n",
    "\n",
    "with open(args['train_args_dir']) as json_file:\n",
    "    config = json.load(json_file)\n",
    "config.update(args)\n",
    "keys = config.keys()\n",
    "values = config.values()\n",
    "args = collections.namedtuple('args', keys)(* values)"
   ]
  },
  {
   "cell_type": "code",
   "execution_count": 4,
   "metadata": {},
   "outputs": [
    {
     "name": "stdout",
     "output_type": "stream",
     "text": [
      "Creating window glfw\n",
      "Creating window glfw\n"
     ]
    }
   ],
   "source": [
    "# create env\n",
    "if args.env_type == 'dm_control':\n",
    "    if args.randomize_env:\n",
    "        _, env = dmcr.benchmarks.visual_generalization(args.domain_name, args.task_name, num_levels=100)\n",
    "    else:\n",
    "        env = suite.load(args.domain_name, args.task_name, task_kwargs={'random': args.seed})\n",
    "        env = GymWrapper(env)\n",
    "elif args.env_type == 'gym':\n",
    "    env = gym.make(args.env_name)\n",
    "\n",
    "# augment observations by pixel values\n",
    "env = PixelObservation(env, args.observation_size)\n",
    "\n",
    "# stack several consecutive frames together\n",
    "env = FrameStack(env, args.frame_stack)\n",
    "\n",
    "# repeat actions\n",
    "env = ActionRepeat(env, args.action_repeat)\n",
    "\n",
    "# define models\n",
    "device = torch.device('cuda' if torch.cuda.is_available() else 'cpu')\n",
    "\n",
    "env_args = {\n",
    "    'observation_shape': env.observation_space.shape,\n",
    "    'action_dim': env.action_space.shape[0],\n",
    "    'action_range': [\n",
    "        float(env.action_space.low.min()),\n",
    "        float(env.action_space.high.max())\n",
    "    ]\n",
    "}\n",
    "config.update(env_args)\n",
    "keys = config.keys()\n",
    "values = config.values()\n",
    "args = collections.namedtuple('args', keys)(*values)\n",
    "\n",
    "# algorithm\n",
    "if hasattr(args, 'sac_batch_size'):\n",
    "    algorithm = DreamerSAC(env, None, None, device, args)\n",
    "elif hasattr(args, 'value_eps'):\n",
    "    algorithm = DreamerValue(env, None, None, device, args)\n",
    "elif hasattr(args, 'controller_type'):\n",
    "    algorithm = DreamerMPC(env, None, None, device, args)\n",
    "else:\n",
    "    raise ValueError('configuration file not valid')\n",
    "\n",
    "# load models\n",
    "algorithm.load_model(args.load_model_dir)\n",
    "\n",
    "eval_episodes = 10\n",
    "eval_steps = 250\n",
    "for _ in range(eval_episodes):\n",
    "    obs = env.reset()\n",
    "    not_done = True\n",
    "    while not_done:\n",
    "        action = algorithm.agent.get_action(obs)\n",
    "        obs, _, done, _ = env.step(action)\n",
    "        not_done = not(done)\n",
    "        obs = torch.as_tensor(obs, device=device)\n",
    "        env.render()"
   ]
  }
 ],
 "metadata": {
  "kernelspec": {
   "display_name": "thesis",
   "language": "python",
   "name": "thesis"
  },
  "language_info": {
   "codemirror_mode": {
    "name": "ipython",
    "version": 3
   },
   "file_extension": ".py",
   "mimetype": "text/x-python",
   "name": "python",
   "nbconvert_exporter": "python",
   "pygments_lexer": "ipython3",
   "version": "3.8.5"
  }
 },
 "nbformat": 4,
 "nbformat_minor": 4
}
